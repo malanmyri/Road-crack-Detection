{
 "cells": [
  {
   "attachments": {},
   "cell_type": "markdown",
   "metadata": {},
   "source": [
    "### Mini project\n",
    "\n",
    "Author: Malan Myri\n",
    "\n",
    "**Importing libraries**"
   ]
  },
  {
   "cell_type": "code",
   "execution_count": null,
   "metadata": {},
   "outputs": [],
   "source": [
    "import os \n",
    "import shutil\n",
    "import json\n",
    "import torch\n",
    "import glob as glob\n",
    "import numpy as np\n",
    "np.random.seed(42)\n",
    "os.mkdir(\"dataset\") #Creating folder to hold data for all countries\n",
    "current_dir = os.getcwd()"
   ]
  },
  {
   "attachments": {},
   "cell_type": "markdown",
   "metadata": {},
   "source": [
    "**Downloading Japan Dataset**"
   ]
  },
  {
   "cell_type": "code",
   "execution_count": null,
   "metadata": {},
   "outputs": [],
   "source": [
    "#Runtime: 2 min\n",
    "!wget https://bigdatacup.s3.ap-northeast-1.amazonaws.com/2022/CRDDC2022/RDD2022/Country_Specific_Data_CRDDC2022/RDD2022_Japan.zip\n",
    "print(\"Download of Japan zip is complete\")\n",
    "!zip -FFvfr RDD2022_Japan.zip --out RDD2022_Japan_fixed.zip\n",
    "os.mkdir(current_dir + \"/\" + \"dataset/Japan\")\n",
    "!unzip RDD2022_Japan_fixed.zip -d dataset/Japan\n",
    "print(\"Japan unziped\")\n",
    "os.remove(current_dir + \"/\" + 'RDD2022_Japan_fixed.zip')\n",
    "os.remove(current_dir + \"/\" + 'RDD2022_Japan.zip')\n",
    "print(\"Zipped files removed\")\n"
   ]
  },
  {
   "attachments": {},
   "cell_type": "markdown",
   "metadata": {},
   "source": [
    "**Downloading India Dataset**"
   ]
  },
  {
   "cell_type": "code",
   "execution_count": null,
   "metadata": {},
   "outputs": [],
   "source": [
    "#Runtime: 1 min 29 sek\n",
    "!wget https://bigdatacup.s3.ap-northeast-1.amazonaws.com/2022/CRDDC2022/RDD2022/Country_Specific_Data_CRDDC2022/RDD2022_India.zip\n",
    "print(\"Download of India zip is complete\")\n",
    "!zip -FFvfr RDD2022_India.zip --out RDD2022_India_fixed.zip\n",
    "os.mkdir(current_dir + \"/\" + \"dataset/India\")\n",
    "!unzip RDD2022_India_fixed.zip -d dataset/India\n",
    "print(\"India unziped\")\n",
    "os.remove(current_dir + \"/\" + 'RDD2022_India_fixed.zip')\n",
    "os.remove(current_dir + \"/\" + 'RDD2022_India.zip')\n",
    "print(\"Zipped files removed\")\n",
    "\n"
   ]
  },
  {
   "attachments": {},
   "cell_type": "markdown",
   "metadata": {},
   "source": [
    "**Downloading Czech Dataset**"
   ]
  },
  {
   "cell_type": "code",
   "execution_count": null,
   "metadata": {},
   "outputs": [],
   "source": [
    "#Runtime: 50 sek\n",
    "!wget https://bigdatacup.s3.ap-northeast-1.amazonaws.com/2022/CRDDC2022/RDD2022/Country_Specific_Data_CRDDC2022/RDD2022_Czech.zip\n",
    "print(\"Download of Czech zip is complete\")\n",
    "!zip -FFvfr RDD2022_Czech.zip --out RDD2022_Czech_fixed.zip\n",
    "os.mkdir(current_dir + \"/\" + \"dataset/Czech\")\n",
    "!unzip RDD2022_Czech_fixed.zip -d dataset/Czech\n",
    "print(\"Czech unziped\")\n",
    "os.remove(current_dir + \"/\" + 'RDD2022_Czech_fixed.zip')\n",
    "os.remove(current_dir + \"/\" + 'RDD2022_Czech.zip')\n",
    "print(\"Zipped files removed\")\n"
   ]
  },
  {
   "attachments": {},
   "cell_type": "markdown",
   "metadata": {},
   "source": [
    "**Downloading United States Dataset**"
   ]
  },
  {
   "cell_type": "code",
   "execution_count": null,
   "metadata": {},
   "outputs": [],
   "source": [
    "#Runtime 1 min 21 sek\n",
    "!wget https://bigdatacup.s3.ap-northeast-1.amazonaws.com/2022/CRDDC2022/RDD2022/Country_Specific_Data_CRDDC2022/RDD2022_United_States.zip\n",
    "print(\"Download of United_States zip is complete\")\n",
    "!zip -FFvfr RDD2022_United_States.zip --out RDD2022_United_States_fixed.zip\n",
    "os.mkdir(current_dir + \"/\" + \"dataset/United_States\")\n",
    "!unzip RDD2022_United_States_fixed.zip -d dataset/United_States\n",
    "print(\"United_States unziped\")\n",
    "os.remove(current_dir + \"/\" + 'RDD2022_United_States_fixed.zip')\n",
    "os.remove(current_dir + \"/\" + 'RDD2022_United_States.zip')\n",
    "print(\"Zipped files removed\")\n"
   ]
  },
  {
   "attachments": {},
   "cell_type": "markdown",
   "metadata": {},
   "source": [
    "**Downloading China Motorbike Dataset**"
   ]
  },
  {
   "cell_type": "code",
   "execution_count": null,
   "metadata": {},
   "outputs": [],
   "source": [
    "#Runtime: 34.7 sek \n",
    "!wget https://bigdatacup.s3.ap-northeast-1.amazonaws.com/2022/CRDDC2022/RDD2022/Country_Specific_Data_CRDDC2022/RDD2022_China_MotorBike.zip\n",
    "print(\"Download of China_MotorBike zip is complete\")\n",
    "!zip -FFvfr RDD2022_China_MotorBike.zip --out RDD2022_China_MotorBike_fixed.zip\n",
    "os.mkdir(current_dir + \"/\" + \"dataset/China_MotorBike\")\n",
    "!unzip RDD2022_China_MotorBike_fixed.zip -d dataset/China_MotorBike\n",
    "print(\"China_MotorBike unziped\")\n",
    "os.remove(current_dir + \"/\" + 'RDD2022_China_MotorBike_fixed.zip')\n",
    "os.remove(current_dir + \"/\" + 'RDD2022_China_MotorBike.zip')\n",
    "print(\"Zipped files removed\")\n",
    "\n"
   ]
  },
  {
   "attachments": {},
   "cell_type": "markdown",
   "metadata": {},
   "source": [
    "**Downloading China_Drone Dataset**"
   ]
  },
  {
   "cell_type": "code",
   "execution_count": null,
   "metadata": {},
   "outputs": [],
   "source": [
    "#Runtime 30 sek \n",
    "!wget https://bigdatacup.s3.ap-northeast-1.amazonaws.com/2022/CRDDC2022/RDD2022/Country_Specific_Data_CRDDC2022/RDD2022_China_Drone.zip\n",
    "print(\"Download of China_Drone zip is complete\")\n",
    "!zip -FFvfr RDD2022_China_Drone.zip --out RDD2022_China_Drone_fixed.zip\n",
    "os.mkdir(current_dir + \"/\" + \"dataset/China_Drone\")\n",
    "!unzip RDD2022_China_Drone_fixed.zip -d dataset/China_Drone\n",
    "print(\"China_Drone unziped\")\n",
    "os.remove(current_dir + \"/\" + 'RDD2022_China_Drone_fixed.zip')\n",
    "os.remove(current_dir + \"/\" + 'RDD2022_China_Drone.zip')\n",
    "print(\"Zipped files removed\")"
   ]
  },
  {
   "attachments": {},
   "cell_type": "markdown",
   "metadata": {},
   "source": [
    "**Downloading Norwegian datasett**"
   ]
  },
  {
   "cell_type": "code",
   "execution_count": null,
   "metadata": {},
   "outputs": [],
   "source": [
    "#Runtime: 35 min \n",
    "!wget https://bigdatacup.s3.ap-northeast-1.amazonaws.com/2022/CRDDC2022/RDD2022/Country_Specific_Data_CRDDC2022/RDD2022_Norway.zip\n",
    "print(\"Download complete\")\n",
    "!zip -FFvfr RDD2022_Norway.zip --out RDD2022_Norway_fixed.zip\n",
    "os.mkdir(current_dir + \"/\" + \"dataset/Norway\")\n",
    "!unzip RDD2022_Norway_fixed.zip -d Norway\n",
    "print(\"Norway unziped\")\n",
    "os.remove(current_dir + \"/\" + 'RDD2022_Norway_fixed.zip')\n",
    "os.remove(current_dir + \"/\" + 'RDD2022_Norway.zip')\n",
    "print(\"Zipped files removed\")"
   ]
  },
  {
   "attachments": {},
   "cell_type": "markdown",
   "metadata": {},
   "source": [
    "**Preprocessing**\n",
    "\n",
    "xml2yolo"
   ]
  },
  {
   "cell_type": "code",
   "execution_count": null,
   "metadata": {},
   "outputs": [],
   "source": [
    "#Runtime: 4 min\n",
    "\n",
    "!python xml2yolo.py dataset/Japan/Japan/train/images/  dataset/Japan/Japan/train/annotations/xmls/ dataset/Japan/Japan/train/labels\n",
    "print(\"Finished with Japan\")\n",
    "!python xml2yolo.py dataset/United_States/United_States/train/images/  dataset/United_States/United_States/train/annotations/xmls/ dataset/United_States/United_States/train/labels\n",
    "print(\"Finished with USA\")\n",
    "!python xml2yolo.py dataset/Czech/Czech/train/images/  dataset/Czech/Czech/train/annotations/xmls/ dataset/Czech/Czech/train/labels\n",
    "print(\"Finished with Czech\")\n",
    "!python xml2yolo.py dataset/India/India/train/images/  dataset/India/India/train/annotations/xmls/ dataset/India/India/train/labels\n",
    "print(\"Finished with India\")\n",
    "!python xml2yolo.py dataset/China_Drone/China_Drone/train/images/  dataset/China_Drone/China_Drone/train/annotations/xmls/ dataset/China_Drone/China_Drone/train/labels\n",
    "print(\"Finished with China_drone\")\n",
    "!python xml2yolo.py dataset/China_MotorBike/China_MotorBike/train/images/  dataset/China_MotorBike/China_MotorBike/train/annotations/xmls/ dataset/China_MotorBike/China_MotorBike/train/labels\n",
    "print(\"Finished with China motorbike\")\n",
    "!python xml2yolo.py dataset/Norway/Norway/train/images/  dataset/Norway/Norway/train/annotations/xmls/ dataset/Norway/Norway/train/labels\n",
    "print(\"Finished with Norway\")\n"
   ]
  },
  {
   "attachments": {},
   "cell_type": "markdown",
   "metadata": {},
   "source": [
    "**Merging datasets**"
   ]
  },
  {
   "cell_type": "code",
   "execution_count": null,
   "metadata": {},
   "outputs": [],
   "source": [
    "os.mkdir(\"dataset/merged\")\n",
    "os.mkdir(\"dataset/merged/train\")\n",
    "os.mkdir(\"dataset/merged/train/images\")\n",
    "os.mkdir(\"dataset/merged/train/labels\")\n",
    "\n",
    "\n",
    "list_dir_images = [\n",
    "            current_dir + \"/\" + 'dataset/Japan/Japan/train/images',\n",
    "            current_dir + \"/\" + \"dataset/United_States/United_States/train/images\",\n",
    "            current_dir + \"/\" + \"dataset/Czech/Czech/train/images\", \n",
    "            current_dir + \"/\" + \"dataset/India/India/train/images\",\n",
    "            current_dir + \"/\" + \"dataset/China_Drone/China_Drone/train/images\", \n",
    "            current_dir + \"/\" + \"dataset/China_MotorBike/China_MotorBike/train/images\",\n",
    "            ]\n",
    "\n",
    "\n",
    "for folder in list_dir_images:\n",
    "    for file in os.listdir(folder):\n",
    "        shutil.move(folder + '/' + file,  current_dir + \"/\" + \"dataset/merged/train/images\")\n",
    "\n",
    "\n",
    "\n",
    "list_dir_annotations = [\n",
    "            current_dir + \"/\" + 'dataset/Japan/Japan/train/annotations/xmls',\n",
    "            current_dir + \"/\" + \"dataset/United_States/United_States/train/labels\",\n",
    "            current_dir + \"/\" + \"dataset/Czech/Czech/train/labels\", \n",
    "            current_dir + \"/\" + \"dataset/India/India/train/labels\",\n",
    "            current_dir + \"/\" + \"dataset/China_Drone/China_Drone/train/labels\", \n",
    "            current_dir + \"/\" + \"dataset/China_MotorBike/China_MotorBike/train/labels\",\n",
    "            ]\n",
    "\n",
    "for folder in list_dir_annotations:\n",
    "    for file in os.listdir(folder):\n",
    "        shutil.move(folder + '/'  + file,  current_dir + \"/\" + \"dataset/merged/train/labels\")\n"
   ]
  },
  {
   "attachments": {},
   "cell_type": "markdown",
   "metadata": {},
   "source": [
    "**Splitting into train and val**"
   ]
  },
  {
   "cell_type": "code",
   "execution_count": 4,
   "metadata": {},
   "outputs": [],
   "source": [
    "%cp scripts/split_datasets.py dataset/merged/train\n",
    "%cd dataset/merged/train\n",
    "!python split_datasets.py images labels\n",
    "%cd ..\n",
    "%cd ..\n",
    "%cd .."
   ]
  },
  {
   "attachments": {},
   "cell_type": "markdown",
   "metadata": {},
   "source": [
    "### Pretraining coco weights from yolov5 on Merged dataset "
   ]
  },
  {
   "attachments": {},
   "cell_type": "markdown",
   "metadata": {},
   "source": [
    "**Cloning git repo for yolov5**"
   ]
  },
  {
   "cell_type": "code",
   "execution_count": null,
   "metadata": {},
   "outputs": [],
   "source": [
    "!git clone https://github.com/ultralytics/yolov5.git\n",
    "%cd yolov5/\n",
    "%pip install -r requirements.txt  # install"
   ]
  },
  {
   "attachments": {},
   "cell_type": "markdown",
   "metadata": {},
   "source": [
    "**Downloading Yolov5 weights**"
   ]
  },
  {
   "cell_type": "code",
   "execution_count": null,
   "metadata": {},
   "outputs": [],
   "source": [
    "!bash data/scripts/download_weights.sh"
   ]
  },
  {
   "cell_type": "code",
   "execution_count": null,
   "metadata": {},
   "outputs": [],
   "source": [
    "TRAIN = True\n",
    "EPOCHS = 80"
   ]
  },
  {
   "cell_type": "code",
   "execution_count": null,
   "metadata": {},
   "outputs": [],
   "source": [
    "#source: https://learnopencv.com/custom-object-detection-training-using-yolov5/\n",
    "def set_res_dir():\n",
    "    res_dir_count = len(glob.glob('runs/train/*'))\n",
    "    print(f\"Current number of result directories: {res_dir_count}\")\n",
    "    if TRAIN:\n",
    "        RES_DIR = f\"results_{res_dir_count+1}\"\n",
    "        print(RES_DIR)\n",
    "    else:\n",
    "        RES_DIR = f\"results_{res_dir_count}\"\n",
    "    return RES_DIR"
   ]
  },
  {
   "cell_type": "code",
   "execution_count": null,
   "metadata": {},
   "outputs": [],
   "source": [
    "RES_DIR = set_res_dir()\n",
    "if TRAIN:\n",
    "    !python train.py --data ../data/RDD2023.yaml --weights weights/yolov5s6.pt\\\n",
    "    --cfg models/hub/yolov5s6.yaml\\\n",
    "    --img 1280 --epochs {EPOCHS} --batch-size 8 --name {RES_DIR} \\\n",
    "    --cache --hyp pretraining_hyp.yaml --image-weights\\"
   ]
  },
  {
   "attachments": {},
   "cell_type": "markdown",
   "metadata": {},
   "source": [
    "**Preprocessing the Norwegian data**"
   ]
  },
  {
   "cell_type": "code",
   "execution_count": null,
   "metadata": {},
   "outputs": [],
   "source": [
    "%cd ..\n",
    "os.mkdir(current_dir + \"/\" + \"dataset/Norway/Norway/train/cropped_images\")\n",
    "os.mkdir(current_dir + \"/\" + \"dataset/Norway/Norway/train/cropped_labels\")"
   ]
  },
  {
   "attachments": {},
   "cell_type": "markdown",
   "metadata": {},
   "source": [
    "Cropping the images. "
   ]
  },
  {
   "cell_type": "code",
   "execution_count": null,
   "metadata": {},
   "outputs": [],
   "source": [
    "#Runtime 20 min\n",
    "#lower left\n",
    "!python scripts/cropping.py  0 0.6 0.5 1  dataset/Norway/Norway/train/images/ dataset/Norway/Norway/train/labels/  dataset/Norway/Norway/train/cropped_images/ dataset/Norway/Norway/train/cropped_labels/ _lower_left"
   ]
  },
  {
   "cell_type": "code",
   "execution_count": null,
   "metadata": {},
   "outputs": [],
   "source": [
    "#runtime 7 min \n",
    "#lower right\n",
    "!python scripts/cropping.py 0.3 1 0.6 1 dataset/Norway/Norway/train/images/ dataset/Norway/Norway/train/labels/  dataset/Norway/Norway/train/cropped_images/ dataset/Norway/Norway/train/cropped_labels/ _lower_right"
   ]
  },
  {
   "cell_type": "code",
   "execution_count": null,
   "metadata": {},
   "outputs": [],
   "source": [
    "#Runtime: 7 min\n",
    "#upper left\n",
    "!python scripts/cropping.py 0 0.6 0 0.6 dataset/Norway/Norway/train/images/ dataset/Norway/Norway/train/labels/  dataset/Norway/Norway/train/cropped_images/ dataset/Norway/Norway/train/cropped_labels/ _upper_left"
   ]
  },
  {
   "cell_type": "code",
   "execution_count": null,
   "metadata": {},
   "outputs": [],
   "source": [
    "#Runtime: 6 min 30 sek\n",
    "#upper right\n",
    "!python scripts/cropping.py 0.3 1 0 0.6 dataset/Norway/Norway/train/images/ dataset/Norway/Norway/train/labels/  dataset/Norway/Norway/train/cropped_images/ dataset/Norway/Norway/train/cropped_labels/ _upper_right"
   ]
  },
  {
   "attachments": {},
   "cell_type": "markdown",
   "metadata": {},
   "source": [
    "**Balancing the norwegian datasett**"
   ]
  },
  {
   "attachments": {},
   "cell_type": "markdown",
   "metadata": {},
   "source": [
    "**15% backgrounds**"
   ]
  },
  {
   "cell_type": "code",
   "execution_count": null,
   "metadata": {},
   "outputs": [],
   "source": [
    "#runtime: 4 min\n",
    "os.mkdir(current_dir + \"/\" + \"dataset/Norway/Norway/train_015\")\n",
    "os.mkdir(current_dir + \"/\" + \"dataset/Norway/Norway/train_015/images\")\n",
    "os.mkdir(current_dir + \"/\" + \"dataset/Norway/Norway/train_015/labels\")\n",
    "!python scripts/balancing.py dataset/Norway/Norway/train/cropped_images/  dataset/Norway/Norway/train/cropped_labels/ dataset/Norway/Norway/train_015/images/ dataset/Norway/Norway/train_015/labels/ 0.15"
   ]
  },
  {
   "attachments": {},
   "cell_type": "markdown",
   "metadata": {},
   "source": [
    "**Splitting Norwegian dataset into train and val**"
   ]
  },
  {
   "cell_type": "code",
   "execution_count": null,
   "metadata": {},
   "outputs": [],
   "source": [
    "shutil.copy( current_dir + \"scripts/\"+ \"split_datasets.py\", current_dir + \"dataset/Norway/Norway/train_015\")\n",
    "%cd dataset/Norway/Norway/train_06\n",
    "!python scripts/split_datasets.py images labels\n",
    "%cd .. \n",
    "%cd .. \n",
    "%cd .. \n",
    "%cd .. "
   ]
  },
  {
   "attachments": {},
   "cell_type": "markdown",
   "metadata": {},
   "source": [
    "### Finetuning Model on the Norwegian images"
   ]
  },
  {
   "cell_type": "code",
   "execution_count": null,
   "metadata": {},
   "outputs": [],
   "source": [
    "TRAIN = True\n",
    "# Number of epochs to train for.\n",
    "EPOCHS = 80"
   ]
  },
  {
   "cell_type": "code",
   "execution_count": null,
   "metadata": {},
   "outputs": [],
   "source": [
    "RES_DIR = set_res_dir()\n",
    "if TRAIN:\n",
    "    !python train.py --data ..data/RDD2023_train015.yaml --name Finetuned --weights ../weights/cropped_015/weights/last.pt   --epochs {EPOCHS} --cache --batch-size 8 --img 1280 --name {RES_DIR} --hyp ../baseline.yaml --image-weights --freeze 1 2 3 4 5 6 7 8 9 10 11 12 13 14 15 16 17 18 19 20"
   ]
  },
  {
   "attachments": {},
   "cell_type": "markdown",
   "metadata": {},
   "source": [
    "## Inference"
   ]
  },
  {
   "cell_type": "code",
   "execution_count": null,
   "metadata": {},
   "outputs": [],
   "source": [
    "!python detect.py --weights ../weights/cropped_015/weights/best.pt --source dataset/Norway/Norway/test/images\\\n",
    "    --imgsz 1280 --augment "
   ]
  },
  {
   "cell_type": "code",
   "execution_count": null,
   "metadata": {},
   "outputs": [],
   "source": [
    "%cd .."
   ]
  },
  {
   "attachments": {},
   "cell_type": "markdown",
   "metadata": {},
   "source": [
    "**Preparing for submission**"
   ]
  },
  {
   "cell_type": "code",
   "execution_count": null,
   "metadata": {},
   "outputs": [],
   "source": [
    "!python scripts/fix.py dataset/Norway/Norway/test/images/ yolov5/runs/detect/exp/labels/\n",
    "!globox convert yolov5/runs/detect/exp/labels/  submission.json --format yolov5 --img_folder dataset/Norway/Norway/test/images/ --save_fmt coco --coco_auto_ids\n",
    "\n",
    "with open('submission.json', 'r') as f:\n",
    "   data = json.load(f)\n",
    "   anns = data['annotations']\n",
    "   for i in anns: \n",
    "      i.pop(\"iscrowd\")\n",
    "      i.pop(\"ignore\")\n",
    "with open('output.json','w') as f:\n",
    "   json.dump(anns,f)"
   ]
  }
 ],
 "metadata": {
  "kernelspec": {
   "display_name": "Python 3",
   "language": "python",
   "name": "python3"
  },
  "language_info": {
   "codemirror_mode": {
    "name": "ipython",
    "version": 3
   },
   "file_extension": ".py",
   "mimetype": "text/x-python",
   "name": "python",
   "nbconvert_exporter": "python",
   "pygments_lexer": "ipython3",
   "version": "3.8.10"
  },
  "orig_nbformat": 4
 },
 "nbformat": 4,
 "nbformat_minor": 2
}
